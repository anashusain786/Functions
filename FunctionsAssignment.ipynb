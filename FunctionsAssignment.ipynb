{
  "nbformat": 4,
  "nbformat_minor": 0,
  "metadata": {
    "colab": {
      "provenance": []
    },
    "kernelspec": {
      "name": "python3",
      "display_name": "Python 3"
    },
    "language_info": {
      "name": "python"
    }
  },
  "cells": [
    {
      "cell_type": "markdown",
      "source": [
        "# Theory Questions"
      ],
      "metadata": {
        "id": "VCbHfSFiQnrt"
      }
    },
    {
      "cell_type": "markdown",
      "source": [
        "1. What is the difference between a function and a method in Python ?\n",
        "   - In Python, a **function** is a block of code that performs a task and can be called on its own using its name. It's not tied to any object. A **method**, on the other hand, is like a function but it's associated with an object and is called using that object. For example, len() is a function, but \"hello\".upper() is a method. Methods usually act on the data inside the object they belong to, while functions can work with any data passed to them.\n"
      ],
      "metadata": {
        "id": "k5qKFxr3QyfN"
      }
    },
    {
      "cell_type": "markdown",
      "source": [
        "2.  Explain the concept of function arguments and parameters in Python ?\n",
        "    - In Python, **parameters** are the names listed in a function's definition, while **arguments** are the actual values you pass when calling that function. For example, in def greet(name):, name is a parameter. If you call greet(\"Anas\"), then \"Anas\" is the argument. Parameters act like placeholders, and arguments fill those placeholders when the function runs. This allows functions to work with different inputs without rewriting the code.\n"
      ],
      "metadata": {
        "id": "V_oPATocRX60"
      }
    },
    {
      "cell_type": "markdown",
      "source": [
        "3. What are the different ways to define and call a function in Python ?\n",
        "   - In Python, you can define a function using the `def` keyword followed by the function name and parentheses. For example:\n",
        "\n",
        "```python\n",
        "def say_hello():  \n",
        "    print(\"Hello\")  \n",
        "```\n",
        "\n",
        "   - You can call it by just writing say_hello(). Functions can also take arguments like def add(a, b):, and you call it using values like add(2, 3). Another way is using lambda to define small anonymous functions, like square = lambda x: x*x, and call it with square(4).\n"
      ],
      "metadata": {
        "id": "a2VBFPx-Rv-h"
      }
    },
    {
      "cell_type": "markdown",
      "source": [
        "4. What is the purpose of the `return` statement in a Python function ?\n",
        "   - The return statement in Python is used to send a result back from a function to the place where it was called. When a function reaches return, it stops running and gives back the specified value. This allows you to store or use the output elsewhere in your code. Without return, a function just performs actions but doesn't give anything back. It's useful when you want the function to calculate something and hand over the result.\n"
      ],
      "metadata": {
        "id": "KSBIGO6cSLpf"
      }
    },
    {
      "cell_type": "markdown",
      "source": [
        "5. What are iterators in Python and how do they differ from iterables ?\n",
        "   - In Python, an **iterable** is anything you can loop over, like a list, tuple, or string. It has the ability to give you an iterator using the iter() function. An **iterator** is the object that actually keeps track of where you are in the loop and gives the next value when you call next() on it. The key difference is that iterables can be turned into iterators, but iterators can only go forward and remember their current position.\n"
      ],
      "metadata": {
        "id": "XUpyvbYzSkzr"
      }
    },
    {
      "cell_type": "markdown",
      "source": [
        "6. Explain the concept of generators in Python and how they are defined ?       \n",
        "   - Generators in Python are a special type of function that let you create an iterator in a simpler way. Instead of returning all the values at once, they give one value at a time using the `yield` keyword. Each time you call `next()` on a generator, it continues from where it left off, saving memory in the process.\n",
        "\n",
        "   - To define a generator, you use the `def` keyword like a normal function, but include `yield` instead of `return`. For example:\n",
        "\n",
        "```python\n",
        "def count_up_to(n):\n",
        "    i = 1\n",
        "    while i <= n:\n",
        "        yield i\n",
        "        i += 1\n",
        "```\n",
        "\n",
        "  - Calling `count_up_to(5)` won’t run the whole function instantly. It gives a generator object that you can loop through or call `next()` on to get each number one by one.\n"
      ],
      "metadata": {
        "id": "MShcBI-iS8bd"
      }
    },
    {
      "cell_type": "markdown",
      "source": [
        "7. What are the advantages of using generators over regular functions ?\n",
        "   - Generators are useful when you want to handle large amounts of data without using too much memory. Unlike regular functions that compute and return all values at once, generators give one value at a time using `yield`, which makes them more memory-efficient. They only produce the next value when needed, which is great for working with big files, streams, or long sequences.\n",
        "\n",
        "   - Another benefit is that they keep track of their state between each call, so you don’t need to write extra code to remember where you left off. Generators also make your code cleaner and simpler when you're dealing with loops that could otherwise get complicated. Overall, they help improve performance and make your programs faster and lighter.\n"
      ],
      "metadata": {
        "id": "1C-81c9yTt8W"
      }
    },
    {
      "cell_type": "markdown",
      "source": [
        "8. What is a lambda function in Python and when is it typically used ?\n",
        "   - A lambda function in Python is a short, anonymous function defined using the lambda keyword instead of def. It can have any number of inputs but only one expression. For example, lambda x: x * 2 creates a function that doubles the input. It's mostly used when you need a quick function for a short period, like inside map(), filter(), or sorted().\n",
        "\n",
        "   - These functions are helpful when you don’t want to write a full function using def, especially for simple tasks. Since they return the result of the expression automatically, you don't need to use the return keyword. Lambda functions are often used when passing logic as an argument in one-liners or quick operations.\n"
      ],
      "metadata": {
        "id": "b8XTYPavT219"
      }
    },
    {
      "cell_type": "markdown",
      "source": [
        "9. Explain the purpose and usage of the map() function in Python ?     \n",
        "   - The map() function in Python is used to apply a function to every item in an iterable, like a list or tuple, without writing a loop. It takes two arguments: the function to apply and the iterable to process. For example, map(str.upper, ['a', 'b', 'c']) will return an object that contains 'A', 'B', and 'C'.\n",
        "\n",
        "   - It doesn't change the original data but gives you a new mapped result. Since map() returns a special object, you usually convert it to a list using list() to see the output. It's useful when you want to perform the same operation on each item, like converting numbers, formatting strings, or applying calculations. It helps keep your code shorter and more readable.\n"
      ],
      "metadata": {
        "id": "bEyxtNdWRkVi"
      }
    },
    {
      "cell_type": "markdown",
      "source": [
        "10. What is the difference between `map()`, `reduce()`, and `filter()` functions in Python ?\n",
        "    - In Python, map(), reduce(), and filter() are used for processing data in a functional style, but they serve different purposes.\n",
        "\n",
        "    - map() is used to apply a function to each item in an iterable and returns a new iterable with the results.\n",
        "    - filter() is used to select items from an iterable that meet a certain condition. It keeps only the values for which the function returns True.\n",
        "    - reduce() is used to apply a function to all elements in an iterable and reduce them to a single value, like adding or multiplying all numbers. It's available in the functools module.\n",
        "\n",
        "    - For example, map() is good for changing every item, filter() is useful for picking specific items, and reduce() is used when you need to combine everything into one result.\n"
      ],
      "metadata": {
        "id": "rm4_UbNZVMFQ"
      }
    },
    {
      "cell_type": "markdown",
      "source": [
        "11. Using pen & Paper write the internal mechanism for sum operation using  reduce function on this given list [47,11,42,13];\n",
        "    -"
      ],
      "metadata": {
        "id": "Mm8CyIV0MC4k"
      }
    },
    {
      "cell_type": "markdown",
      "source": [
        "# Practical Questions"
      ],
      "metadata": {
        "id": "Swwrw34mVsai"
      }
    },
    {
      "cell_type": "code",
      "source": [
        "# Write a Python function that takes a list of numbers as input and returns the sum of all even numbers in the list.\n",
        "\n",
        "my_list = [1, 2, 3, 4, 5, 6]\n",
        "result = sum_of_even_numbers(my_list)\n",
        "print(\"Sum of even numbers:\", result)\n",
        "def sum_of_even_numbers(numbers):\n",
        "    total = 0\n",
        "    for num in numbers:\n",
        "        if num % 2 == 0:\n",
        "            total += num\n",
        "    return total"
      ],
      "metadata": {
        "id": "1DGI_WLcXr2u",
        "colab": {
          "base_uri": "https://localhost:8080/"
        },
        "outputId": "b6ecc669-5248-48cc-a708-ed64e52eb6a2"
      },
      "execution_count": 13,
      "outputs": [
        {
          "output_type": "stream",
          "name": "stdout",
          "text": [
            "Sum of even numbers: 12\n"
          ]
        }
      ]
    },
    {
      "cell_type": "code",
      "source": [
        "# Create a Python function that accepts a string and returns the reverse of that string\n",
        "\n",
        "input_str = \"hello\"\n",
        "reversed_str = reverse_string(input_str)\n",
        "print(\"Reversed string:\", reversed_str)\n",
        "def reverse_string(text):\n",
        "    return string[::-1]"
      ],
      "metadata": {
        "colab": {
          "base_uri": "https://localhost:8080/"
        },
        "id": "0J-MPvyIGS2W",
        "outputId": "a3e56d63-6c33-45fe-a830-3c2c96bc6150"
      },
      "execution_count": 15,
      "outputs": [
        {
          "output_type": "stream",
          "name": "stdout",
          "text": [
            "Reversed string: olleh\n"
          ]
        }
      ]
    },
    {
      "cell_type": "code",
      "source": [
        "#  Implement a Python function that takes a list of integers and returns a new list containing the squares of each number\n",
        "\n",
        "def square_numbers(numbers):\n",
        "    return [num ** 2 for num in numbers]\n",
        "\n",
        "my_list = [1, 2, 3, 4, 5]\n",
        "squared_list = square_numbers(my_list)\n",
        "print(\"Squared list:\", squared_list)\n"
      ],
      "metadata": {
        "colab": {
          "base_uri": "https://localhost:8080/"
        },
        "id": "34s2XbxJHhJb",
        "outputId": "774017f7-d428-48e5-9104-b955a0bd9d8f"
      },
      "execution_count": 20,
      "outputs": [
        {
          "output_type": "stream",
          "name": "stdout",
          "text": [
            "Squared list: [1, 4, 9, 16, 25]\n"
          ]
        }
      ]
    },
    {
      "cell_type": "code",
      "source": [
        "# Write a Python function that checks if a given number is prime or not from 1 to 200\n",
        "\n",
        "for n in range(1, 201):\n",
        "    if is_prime(n):\n",
        "        print(n, \"is a prime number\")\n",
        "\n",
        "def is_prime(num):\n",
        "    if num < 2 or num > 200:\n",
        "        return False\n",
        "    for i in range(2, int(num**0.5) + 1):\n",
        "        if num % i == 0:\n",
        "            return False\n",
        "    return True\n",
        ""
      ],
      "metadata": {
        "colab": {
          "base_uri": "https://localhost:8080/"
        },
        "id": "p8WXUrImIq56",
        "outputId": "2721c855-3ae0-47fc-e7af-9d1afb5c19d8"
      },
      "execution_count": 24,
      "outputs": [
        {
          "output_type": "stream",
          "name": "stdout",
          "text": [
            "2 is a prime number\n",
            "3 is a prime number\n",
            "5 is a prime number\n",
            "7 is a prime number\n",
            "11 is a prime number\n",
            "13 is a prime number\n",
            "17 is a prime number\n",
            "19 is a prime number\n",
            "23 is a prime number\n",
            "29 is a prime number\n",
            "31 is a prime number\n",
            "37 is a prime number\n",
            "41 is a prime number\n",
            "43 is a prime number\n",
            "47 is a prime number\n",
            "53 is a prime number\n",
            "59 is a prime number\n",
            "61 is a prime number\n",
            "67 is a prime number\n",
            "71 is a prime number\n",
            "73 is a prime number\n",
            "79 is a prime number\n",
            "83 is a prime number\n",
            "89 is a prime number\n",
            "97 is a prime number\n",
            "101 is a prime number\n",
            "103 is a prime number\n",
            "107 is a prime number\n",
            "109 is a prime number\n",
            "113 is a prime number\n",
            "127 is a prime number\n",
            "131 is a prime number\n",
            "137 is a prime number\n",
            "139 is a prime number\n",
            "149 is a prime number\n",
            "151 is a prime number\n",
            "157 is a prime number\n",
            "163 is a prime number\n",
            "167 is a prime number\n",
            "173 is a prime number\n",
            "179 is a prime number\n",
            "181 is a prime number\n",
            "191 is a prime number\n",
            "193 is a prime number\n",
            "197 is a prime number\n",
            "199 is a prime number\n"
          ]
        }
      ]
    },
    {
      "cell_type": "code",
      "source": [
        "# Create an iterator class in Python that generates the Fibonacci sequence up to a specified number of terms\n",
        "\n",
        "class FibonacciIterator:\n",
        "    def __init__(self, max_terms):\n",
        "        self.max_terms = max_terms\n",
        "        self.count = 0\n",
        "        self.a = 0\n",
        "        self.b = 1\n",
        "\n",
        "    def __iter__(self):\n",
        "        return self\n",
        "\n",
        "    def __next__(self):\n",
        "        if self.count >= self.max_terms:\n",
        "            raise StopIteration\n",
        "        if self.count == 0:\n",
        "            self.count += 1\n",
        "            return self.a\n",
        "        elif self.count == 1:\n",
        "            self.count += 1\n",
        "            return self.b\n",
        "        else:\n",
        "            self.a, self.b = self.b, self.a + self.b\n",
        "            self.count += 1\n",
        "            return self.b\n",
        "\n",
        "# Now instantiate and iterate after the class is defined\n",
        "fib = FibonacciIterator(10)\n",
        "\n",
        "for num in fib:\n",
        "    print(num, end=' ')\n"
      ],
      "metadata": {
        "colab": {
          "base_uri": "https://localhost:8080/"
        },
        "id": "0_TcD2aQIubL",
        "outputId": "3e771463-074a-4a76-cfb0-0683902f8dd0"
      },
      "execution_count": 42,
      "outputs": [
        {
          "output_type": "stream",
          "name": "stdout",
          "text": [
            "0 1 1 2 3 5 8 13 21 34 "
          ]
        }
      ]
    },
    {
      "cell_type": "code",
      "source": [
        "# Write a generator function in Python that yields the powers of 2 up to a given exponent\n",
        "\n",
        "def powers_of_two(max_exponent):\n",
        "    for i in range(max_exponent + 1):\n",
        "        yield 2 ** i\n",
        "for power in powers_of_two(5):\n",
        "    print(power)\n"
      ],
      "metadata": {
        "colab": {
          "base_uri": "https://localhost:8080/"
        },
        "id": "JAIKz67xJR5m",
        "outputId": "184a7552-152f-4f9d-eb52-dce8271208ec"
      },
      "execution_count": 28,
      "outputs": [
        {
          "output_type": "stream",
          "name": "stdout",
          "text": [
            "1\n",
            "2\n",
            "4\n",
            "8\n",
            "16\n",
            "32\n"
          ]
        }
      ]
    },
    {
      "cell_type": "code",
      "source": [
        "#  Implement a generator function that reads a file line by line and yields each line as a string\n",
        "\n",
        "# Create a dummy file named 'example.txt' with some content\n",
        "!echo \"This is line 1\" > example.txt\n",
        "!echo \"This is line 2\" >> example.txt\n",
        "!echo \"This is line 3\" >> example.txt\n",
        "\n",
        "def read_file_line_by_line(file_path):\n",
        "    with open(file_path, 'r') as file:\n",
        "        for line in file:\n",
        "            yield line.rstrip('\\n')\n",
        "\n",
        "# Now the file exists, so the function call should work\n",
        "for line in read_file_line_by_line(\"example.txt\"):\n",
        "    print(line)"
      ],
      "metadata": {
        "colab": {
          "base_uri": "https://localhost:8080/"
        },
        "id": "fzwfVsC_JyX2",
        "outputId": "43249fbd-a912-485f-fdf6-f2b64248763a"
      },
      "execution_count": 31,
      "outputs": [
        {
          "output_type": "stream",
          "name": "stdout",
          "text": [
            "This is line 1\n",
            "This is line 2\n",
            "This is line 3\n"
          ]
        }
      ]
    },
    {
      "cell_type": "code",
      "source": [
        "# Use a lambda function in Python to sort a list of tuples based on the second element of each tuple\n",
        "\n",
        "my_list = [(1, 3), (2, 5), (3, 1), (4, 2)]\n",
        "sorted_list = sorted(my_list, key=lambda x: x[1])\n",
        "print(sorted_list)\n"
      ],
      "metadata": {
        "colab": {
          "base_uri": "https://localhost:8080/"
        },
        "id": "0AIjO77RKBa0",
        "outputId": "dfb4a288-ec48-4b28-d869-eec7c18041e0"
      },
      "execution_count": 32,
      "outputs": [
        {
          "output_type": "stream",
          "name": "stdout",
          "text": [
            "[(3, 1), (4, 2), (1, 3), (2, 5)]\n"
          ]
        }
      ]
    },
    {
      "cell_type": "code",
      "source": [
        "# Write a Python program that uses `map()` to convert a list of temperatures from Celsius to Fahrenheit\n",
        "\n",
        "celsius_temps = [0, 20, 37, 100]\n",
        "fahrenheit_temps = list(map(lambda c: (c * 9/5) + 32, celsius_temps))\n",
        "print(\"Fahrenheit temperatures:\", fahrenheit_temps)\n"
      ],
      "metadata": {
        "colab": {
          "base_uri": "https://localhost:8080/"
        },
        "id": "T7rLtQfQKi8t",
        "outputId": "04eae871-64ef-47fe-db55-976ef5b00bad"
      },
      "execution_count": 37,
      "outputs": [
        {
          "output_type": "stream",
          "name": "stdout",
          "text": [
            "Fahrenheit temperatures: [32.0, 68.0, 98.6, 212.0]\n"
          ]
        }
      ]
    },
    {
      "cell_type": "code",
      "source": [
        "# Create a Python program that uses `filter()` to remove all the vowels from a given string\n",
        "\n",
        "def remove_vowels(text):\n",
        "    vowels = 'aeiouAEIOU'\n",
        "    return ''.join(filter(lambda ch: ch not in vowels, text))\n",
        "\n",
        "# Example usage\n",
        "input_str = \"Hello World\"\n",
        "result = remove_vowels(input_str)\n",
        "print(\"String without vowels:\", result)\n"
      ],
      "metadata": {
        "colab": {
          "base_uri": "https://localhost:8080/"
        },
        "id": "Paunzbr2K8ge",
        "outputId": "6f6ec99e-62c7-4797-b3c2-79316a8f447d"
      },
      "execution_count": 39,
      "outputs": [
        {
          "output_type": "stream",
          "name": "stdout",
          "text": [
            "String without vowels: Hll Wrld\n"
          ]
        }
      ]
    },
    {
      "cell_type": "code",
      "source": [
        "# Imagine an accounting routine used in a book shop. It works on a list with sublists, which look like this\n",
        "\n",
        "orders = [\n",
        "    [34587, \"Learning Python, Mark Lutz\", 4, 40.95],\n",
        "    [98762, \"Programming Python, Mark Lutz\", 5, 56.80],\n",
        "    [77226, \"Head First Python, Paul Barry\", 3, 32.95],\n",
        "    [88112, \"Einführung in Python3, Bernd Klein\", 3, 24.99]\n",
        "]\n",
        "\n",
        "result = list(map(\n",
        "    lambda order: (\n",
        "        order[0],\n",
        "        order[2] * order[3] if order[2] * order[3] >= 100 else order[2] * order[3] + 10\n",
        "    ),\n",
        "    orders\n",
        "))\n",
        "\n",
        "print(result)\n"
      ],
      "metadata": {
        "colab": {
          "base_uri": "https://localhost:8080/"
        },
        "id": "b3Ab1j52LJVT",
        "outputId": "93f59625-5ff3-47e3-a50b-a4c37a2519a5"
      },
      "execution_count": 40,
      "outputs": [
        {
          "output_type": "stream",
          "name": "stdout",
          "text": [
            "[(34587, 163.8), (98762, 284.0), (77226, 108.85000000000001), (88112, 84.97)]\n"
          ]
        }
      ]
    }
  ]
}